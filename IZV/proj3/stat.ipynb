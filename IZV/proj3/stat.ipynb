{
 "cells": [
  {
   "cell_type": "markdown",
   "metadata": {},
   "source": [
    "Import potřebných nástrojů"
   ]
  },
  {
   "cell_type": "code",
   "execution_count": 68,
   "metadata": {},
   "outputs": [],
   "source": [
    "import pandas as pd\n",
    "import numpy as np\n",
    "import matplotlib.pyplot as plt\n",
    "from scipy.stats import chi2_contingency, ttest_ind\n",
    "\n",
    "pd.options.mode.chained_assignment = None"
   ]
  },
  {
   "cell_type": "markdown",
   "metadata": {},
   "source": [
    "Stažení dat"
   ]
  },
  {
   "cell_type": "code",
   "execution_count": 69,
   "metadata": {},
   "outputs": [],
   "source": [
    "df = pd.read_pickle(\"accidents.pkl.gz\")"
   ]
  },
  {
   "cell_type": "markdown",
   "metadata": {},
   "source": [
    "# Hypotéza 1"
   ]
  },
  {
   "cell_type": "markdown",
   "metadata": {},
   "source": [
    "V úvodní hypotéze se věnujeme tvrzení, že na dálnicích umírá stejné množství lidí jako na silnicích první třídy. Nulovou hypotézou je tvrzení, že umírá stejné množství lidí, alternativní, že umírá větší podíl lidí na silnicích první třídy"
   ]
  },
  {
   "cell_type": "markdown",
   "metadata": {},
   "source": [
    "Nejprve vytvořím sloupec fatal, kde rozliším fatální nehody a nehody bez úmrtí a dálnice a silnice."
   ]
  },
  {
   "cell_type": "code",
   "execution_count": 70,
   "metadata": {},
   "outputs": [],
   "source": [
    "ddf = df[(df[\"p36\"] == 0) | (df[\"p36\"] == 1)]\n",
    "ddf.loc[ddf[\"p36\"] == 0, \"typ\"] = \"Dálnice\"\n",
    "ddf.loc[ddf[\"p36\"] == 1, \"typ\"] = \"Silnice první třídy\"\n",
    "ddf.loc[ddf[\"p13a\"] > 0, \"fatal\"] = \"Fatální\"\n",
    "ddf.loc[ddf[\"p13a\"] == 0, \"fatal\"] = \"Bez úmrtí\""
   ]
  },
  {
   "cell_type": "markdown",
   "metadata": {},
   "source": [
    "Následně vytvořím kontingenční tabulku s podíly fatálnosti na nehodách."
   ]
  },
  {
   "cell_type": "code",
   "execution_count": 71,
   "metadata": {},
   "outputs": [
    {
     "data": {
      "text/html": [
       "<div>\n",
       "<style scoped>\n",
       "    .dataframe tbody tr th:only-of-type {\n",
       "        vertical-align: middle;\n",
       "    }\n",
       "\n",
       "    .dataframe tbody tr th {\n",
       "        vertical-align: top;\n",
       "    }\n",
       "\n",
       "    .dataframe thead th {\n",
       "        text-align: right;\n",
       "    }\n",
       "</style>\n",
       "<table border=\"1\" class=\"dataframe\">\n",
       "  <thead>\n",
       "    <tr style=\"text-align: right;\">\n",
       "      <th>fatal</th>\n",
       "      <th>Bez úmrtí</th>\n",
       "      <th>Fatální</th>\n",
       "    </tr>\n",
       "    <tr>\n",
       "      <th>typ</th>\n",
       "      <th></th>\n",
       "      <th></th>\n",
       "    </tr>\n",
       "  </thead>\n",
       "  <tbody>\n",
       "    <tr>\n",
       "      <th>Dálnice</th>\n",
       "      <td>24293</td>\n",
       "      <td>166</td>\n",
       "    </tr>\n",
       "    <tr>\n",
       "      <th>Silnice první třídy</th>\n",
       "      <td>78618</td>\n",
       "      <td>911</td>\n",
       "    </tr>\n",
       "  </tbody>\n",
       "</table>\n",
       "</div>"
      ],
      "text/plain": [
       "fatal                Bez úmrtí  Fatální\n",
       "typ                                    \n",
       "Dálnice                  24293      166\n",
       "Silnice první třídy      78618      911"
      ]
     },
     "execution_count": 71,
     "metadata": {},
     "output_type": "execute_result"
    }
   ],
   "source": [
    "contingency = pd.crosstab(ddf[\"typ\"], ddf[\"fatal\"])\n",
    "contingency"
   ]
  },
  {
   "cell_type": "markdown",
   "metadata": {},
   "source": [
    "Pro zajímavost ještě zkusím normalizovanou kontingenčku."
   ]
  },
  {
   "cell_type": "code",
   "execution_count": 72,
   "metadata": {},
   "outputs": [
    {
     "data": {
      "text/html": [
       "<div>\n",
       "<style scoped>\n",
       "    .dataframe tbody tr th:only-of-type {\n",
       "        vertical-align: middle;\n",
       "    }\n",
       "\n",
       "    .dataframe tbody tr th {\n",
       "        vertical-align: top;\n",
       "    }\n",
       "\n",
       "    .dataframe thead th {\n",
       "        text-align: right;\n",
       "    }\n",
       "</style>\n",
       "<table border=\"1\" class=\"dataframe\">\n",
       "  <thead>\n",
       "    <tr style=\"text-align: right;\">\n",
       "      <th>fatal</th>\n",
       "      <th>Bez úmrtí</th>\n",
       "      <th>Fatální</th>\n",
       "    </tr>\n",
       "    <tr>\n",
       "      <th>typ</th>\n",
       "      <th></th>\n",
       "      <th></th>\n",
       "    </tr>\n",
       "  </thead>\n",
       "  <tbody>\n",
       "    <tr>\n",
       "      <th>Dálnice</th>\n",
       "      <td>0.993213</td>\n",
       "      <td>0.006787</td>\n",
       "    </tr>\n",
       "    <tr>\n",
       "      <th>Silnice první třídy</th>\n",
       "      <td>0.988545</td>\n",
       "      <td>0.011455</td>\n",
       "    </tr>\n",
       "  </tbody>\n",
       "</table>\n",
       "</div>"
      ],
      "text/plain": [
       "fatal                Bez úmrtí   Fatální\n",
       "typ                                     \n",
       "Dálnice               0.993213  0.006787\n",
       "Silnice první třídy   0.988545  0.011455"
      ]
     },
     "execution_count": 72,
     "metadata": {},
     "output_type": "execute_result"
    }
   ],
   "source": [
    "contingencyPercentage = pd.crosstab(ddf[\"typ\"], ddf[\"fatal\"], normalize=\"index\")\n",
    "contingencyPercentage"
   ]
  },
  {
   "cell_type": "markdown",
   "metadata": {},
   "source": [
    "Na kontingenční tabulce můžeme vidět, že na silnících první třídy (sloupec 1) umíral o něco větší podíl lidí než na dálnici. Otázkou je, zdali je tento rozdíl statisticky významný -- to ověříme testem chí kvadrátu."
   ]
  },
  {
   "cell_type": "code",
   "execution_count": 73,
   "metadata": {},
   "outputs": [
    {
     "data": {
      "text/plain": [
       "(39.314921530329016,\n",
       " 3.6067450279444316e-10,\n",
       " 1,\n",
       " array([[24205.67901104,   253.32098896],\n",
       "        [78705.32098896,   823.67901104]]))"
      ]
     },
     "execution_count": 73,
     "metadata": {},
     "output_type": "execute_result"
    }
   ],
   "source": [
    "chi2_contingency(contingency)"
   ]
  },
  {
   "cell_type": "markdown",
   "metadata": {},
   "source": [
    "P-hodnota = 3.6067450279444316e-10. Naše nulová hypotéza říká, že hodnoty jsou různé. Pro tuto hypotézu zkoumáme hranici určenou $\\alpha = 0.05$ podělenou dvěma (viz https://www.umat.fekt.vut.cz/~fusekmi/ipt/06.pdf a https://www.umat.fekt.vut.cz/~fusekmi/ipt/Tabulka_chi2.pdf) -- pro tuto hodnotu ($\\chi ^2_{0.025}$) je hodnota z tabulky 0,001. Porovnáním určujeme, že na významnosti 95 % nemůžeme zamítnout nulovou hypotézu a tudíž nemůžeme říct, že by na silnicích první třídy umíralo více lidí. "
   ]
  },
  {
   "cell_type": "markdown",
   "metadata": {},
   "source": [
    "# Hypotéza 2"
   ]
  },
  {
   "cell_type": "markdown",
   "metadata": {},
   "source": [
    "Ve druhé hypotéze tvrdíme, že při nehodách vozidel značky Škoda je škoda na vozidle nižší než při nehodách vozidel Audi. Nulová hypotéza je taková, že jsou si rovny, a alternativní, že škody na vozidlech Škoda nižší."
   ]
  },
  {
   "cell_type": "markdown",
   "metadata": {},
   "source": [
    "Nejprve je nutné extrahovat data, která budou potřeba."
   ]
  },
  {
   "cell_type": "code",
   "execution_count": 74,
   "metadata": {},
   "outputs": [],
   "source": [
    "ddf2 = df[(df[\"p45a\"] == 39) | (df[\"p45a\"] == 2)]\n",
    "ddf2.loc[ddf2[\"p45a\"] == 39, \"Značka\"] = \"Škoda\"\n",
    "ddf2.loc[ddf2[\"p45a\"] == 2, \"Značka\"] = \"Audi\"\n"
   ]
  },
  {
   "cell_type": "markdown",
   "metadata": {},
   "source": [
    "Nyní si vytvořím kontingenční tabulku."
   ]
  },
  {
   "cell_type": "code",
   "execution_count": 75,
   "metadata": {},
   "outputs": [
    {
     "data": {
      "text/html": [
       "<div>\n",
       "<style scoped>\n",
       "    .dataframe tbody tr th:only-of-type {\n",
       "        vertical-align: middle;\n",
       "    }\n",
       "\n",
       "    .dataframe tbody tr th {\n",
       "        vertical-align: top;\n",
       "    }\n",
       "\n",
       "    .dataframe thead th {\n",
       "        text-align: right;\n",
       "    }\n",
       "</style>\n",
       "<table border=\"1\" class=\"dataframe\">\n",
       "  <thead>\n",
       "    <tr style=\"text-align: right;\">\n",
       "      <th>col_0</th>\n",
       "      <th>Škoda na vozidle</th>\n",
       "    </tr>\n",
       "    <tr>\n",
       "      <th>Značka</th>\n",
       "      <th></th>\n",
       "    </tr>\n",
       "  </thead>\n",
       "  <tbody>\n",
       "    <tr>\n",
       "      <th>Audi</th>\n",
       "      <td>568.358934</td>\n",
       "    </tr>\n",
       "    <tr>\n",
       "      <th>Škoda</th>\n",
       "      <td>368.166026</td>\n",
       "    </tr>\n",
       "  </tbody>\n",
       "</table>\n",
       "</div>"
      ],
      "text/plain": [
       "col_0   Škoda na vozidle\n",
       "Značka                  \n",
       "Audi          568.358934\n",
       "Škoda         368.166026"
      ]
     },
     "execution_count": 75,
     "metadata": {},
     "output_type": "execute_result"
    }
   ],
   "source": [
    "contingencyCosts = pd.crosstab(index=ddf2[\"Značka\"], columns=\"Škoda na vozidle\", values=ddf2[\"p53\"], aggfunc=\"mean\")\n",
    "contingencyCosts"
   ]
  },
  {
   "cell_type": "markdown",
   "metadata": {},
   "source": [
    "Z kontingenční tabulky již poměrně zjevně vyplývá, že na škodovkách bývá menší škoda než na vozidlech značky Audi. To ještě ověříme vhodným testem.\n",
    "\n",
    "Test musí ideálně být nezávislý (provnáváme dvě nezávislé hodnoty). Proto použiji párový nezávislý ttest."
   ]
  },
  {
   "cell_type": "code",
   "execution_count": 76,
   "metadata": {},
   "outputs": [
    {
     "name": "stdout",
     "output_type": "stream",
     "text": [
      "Hodnota T je: 39.12749433594028\n",
      "Hodnota P je: 0.0\n"
     ]
    }
   ],
   "source": [
    "skoda = ddf2.loc[ddf2[\"Značka\"] == \"Škoda\", \"p53\"]\n",
    "audi = ddf2.loc[ddf2[\"Značka\"] == \"Audi\", \"p53\"]\n",
    "tval, pval = ttest_ind(audi, skoda)\n",
    "print(\"Hodnota T je:\", tval)\n",
    "print(\"Hodnota P je:\", pval)\n"
   ]
  },
  {
   "cell_type": "markdown",
   "metadata": {},
   "source": [
    "T hodnota nám říká, v jakém stupni volnosti studentova T-rozdělení máme hledat v tabulkách. Zaokrouhlením můžeme říci, že se jedná o 39. stupeň volnosti máme pro 95% hladinu významnosti hodnotu 1,685. Z hodnoty P (velmi malá) můžeme usoudit, že zamítáme nulovou hypotézu (hodnoty jsou stejné), a prohlásit, že škody na vozidlech značky Škoda jsou nižší."
   ]
  }
 ],
 "metadata": {
  "interpreter": {
   "hash": "02e06ce31cd46c0c1b3d62172fa2abcc25c3f3cab9f1cb7937a5a96ff227b8ea"
  },
  "kernelspec": {
   "display_name": "Python 3.8.10 64-bit ('base': conda)",
   "language": "python",
   "name": "python3"
  },
  "language_info": {
   "codemirror_mode": {
    "name": "ipython",
    "version": 3
   },
   "file_extension": ".py",
   "mimetype": "text/x-python",
   "name": "python",
   "nbconvert_exporter": "python",
   "pygments_lexer": "ipython3",
   "version": "3.8.10"
  },
  "orig_nbformat": 4
 },
 "nbformat": 4,
 "nbformat_minor": 2
}
